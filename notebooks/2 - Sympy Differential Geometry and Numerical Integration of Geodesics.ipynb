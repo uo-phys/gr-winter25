{
 "cells": [
  {
   "cell_type": "code",
   "execution_count": 2,
   "metadata": {},
   "outputs": [],
   "source": [
    "import sympy as sp\n",
    "import numpy as np\n",
    "from scipy.integrate import solve_ivp\n",
    "\n",
    "%matplotlib ipympl\n",
    "import matplotlib.pyplot as plt\n",
    "from mpl_toolkits.mplot3d import Axes3D\n",
    "\n",
    "from sympy import symbols, pi, sqrt, atan2, cos, sin\n",
    "from sympy.diffgeom import Manifold, Patch, CoordSystem, metric_to_Christoffel_2nd"
   ]
  },
  {
   "cell_type": "markdown",
   "metadata": {},
   "source": [
    "# `SymPy`'s Differential Geometry Module\n",
    "\n",
    "`SymPy`'s differential geometry package provides useful tools for General Relativity.  The constructs we will be making use of are:\n",
    " * `Manifold`: represents a mathematical [manifold](https://en.wikipedia.org/wiki/Manifold) -- a topological space that locally resembles Euclidean space near each point -- which will pragmatically serve as a container for `patch`es we will define on the manifold.\n",
    " * `Patch`: represents a coordinate patch ('patch' for short) on a manifold, where coordinates can be defined.  This permits parameterization of any point on the patch in terms of the coordinates, and will serve as the container for coordinate system charts.\n",
    " * `CoordSystem`: a [coordinate system](https://en.wikipedia.org/wiki/Coordinate_system) that uses one or more coordinates to uniquely determine the position of the points or other geometric elements on a manifold. This object contains the logic for coordinate transformations."
   ]
  },
  {
   "cell_type": "markdown",
   "metadata": {},
   "source": [
    "## Example: Cartesian and polar coordinates in 2-D Euclidean space\n",
    "\n",
    "First define our manifold and patch."
   ]
  },
  {
   "cell_type": "code",
   "execution_count": 3,
   "metadata": {},
   "outputs": [],
   "source": []
  },
  {
   "cell_type": "markdown",
   "metadata": {},
   "source": [
    "Now we create two coordinate systems with a defined transformation between them."
   ]
  },
  {
   "cell_type": "code",
   "execution_count": 4,
   "metadata": {},
   "outputs": [],
   "source": []
  },
  {
   "cell_type": "markdown",
   "metadata": {},
   "source": [
    "We can not define a point in one coordinate system (e.g., polar) and use that coordinate system's transform method to calculate the coordinates in another coordinate system (as long as the transformation is available in the `CoordSystem`'s relations."
   ]
  },
  {
   "cell_type": "code",
   "execution_count": null,
   "metadata": {},
   "outputs": [],
   "source": []
  },
  {
   "cell_type": "code",
   "execution_count": null,
   "metadata": {},
   "outputs": [],
   "source": []
  },
  {
   "cell_type": "markdown",
   "metadata": {},
   "source": [
    "We can also define a `Point` object in a chosen coordinate system, and compute coordinates in another."
   ]
  },
  {
   "cell_type": "code",
   "execution_count": null,
   "metadata": {},
   "outputs": [],
   "source": []
  },
  {
   "cell_type": "markdown",
   "metadata": {},
   "source": [
    "Given a point, basis _scalar_ fields return the value of a particular coordinate."
   ]
  },
  {
   "cell_type": "code",
   "execution_count": null,
   "metadata": {},
   "outputs": [],
   "source": []
  },
  {
   "cell_type": "markdown",
   "metadata": {},
   "source": [
    "Basis _vector_ fields provide unit vectors along a coordinate line."
   ]
  },
  {
   "cell_type": "code",
   "execution_count": null,
   "metadata": {},
   "outputs": [],
   "source": []
  },
  {
   "cell_type": "code",
   "execution_count": null,
   "metadata": {},
   "outputs": [],
   "source": []
  },
  {
   "cell_type": "markdown",
   "metadata": {},
   "source": [
    "# Wormhole Geometry\n",
    "\n",
    "We've already used EinsteinPy to compute Christofell symbols for the metric\n",
    "\n",
    "$$\n",
    "ds^2 = -dt^2 + dr^2 + (b^2 + r^2)(d\\theta^2 + \\sin^2\\theta d\\phi^2),\n",
    "$$\n",
    "\n",
    "but let's now use `SymPy` directly."
   ]
  },
  {
   "cell_type": "code",
   "execution_count": 11,
   "metadata": {},
   "outputs": [],
   "source": [
    "from sympy.diffgeom import TensorProduct as TP"
   ]
  },
  {
   "cell_type": "markdown",
   "metadata": {},
   "source": [
    "First we'll build up the line element."
   ]
  },
  {
   "cell_type": "code",
   "execution_count": null,
   "metadata": {},
   "outputs": [],
   "source": [
    "# Create a 4-D manifold.\n",
    "\n",
    "# Create a patch.\n",
    "\n",
    "# Constant symbols\n",
    "\n",
    "# Coordinate system\n",
    "\n",
    "# Get the coordinate functions\n",
    "\n",
    "# Get the base one forms (differentials)\n",
    "\n",
    "# Auxiliary terms for the line element.\n",
    "\n",
    "# Build the line element"
   ]
  },
  {
   "cell_type": "markdown",
   "metadata": {},
   "source": [
    "Are we in a coordinate basis? (TODO: I DONT THINK THIS CUTS IT)"
   ]
  },
  {
   "cell_type": "code",
   "execution_count": null,
   "metadata": {},
   "outputs": [],
   "source": [
    "g_αβ = []"
   ]
  },
  {
   "cell_type": "markdown",
   "metadata": {},
   "source": [
    "Now we can compute Christoffel symbols."
   ]
  },
  {
   "cell_type": "code",
   "execution_count": null,
   "metadata": {},
   "outputs": [],
   "source": []
  },
  {
   "cell_type": "markdown",
   "metadata": {},
   "source": [
    "Now let's solve the geodesic equation (TODO: DISCUSS COORD BASIS)\n",
    "\n",
    "$$\n",
    "\\frac{d^2 x^\\alpha}{d\\tau^2} = -\\Gamma^\\alpha_{\\beta\\gamma}\\frac{dx^\\beta}{d\\tau}\\frac{dx^\\gamma}{d\\tau}\n",
    "$$\n",
    "\n",
    "$$\n",
    "\\frac{d u^\\alpha}{d\\tau} = -\\Gamma^\\alpha_{\\beta\\gamma}u^\\beta u^\\gamma\n",
    "$$\n"
   ]
  },
  {
   "cell_type": "markdown",
   "metadata": {},
   "source": [
    "Let's work in the equatorial plane ($\\theta=\\pi/2$) without loss of generality (due to spherical symmetry).  We'll also set $b=1$, which is like working with a dimensionless coordinate radius $r'=r/b$."
   ]
  },
  {
   "cell_type": "code",
   "execution_count": null,
   "metadata": {
    "scrolled": true
   },
   "outputs": [],
   "source": []
  },
  {
   "cell_type": "markdown",
   "metadata": {},
   "source": [
    "Numerically speaking, we need to solve an initial value problem for a system of ordinary differential equations (ODEs).  We'll use `scipy`'s `solve_ivp()`."
   ]
  },
  {
   "cell_type": "code",
   "execution_count": null,
   "metadata": {},
   "outputs": [],
   "source": [
    "solve_ivp?"
   ]
  },
  {
   "cell_type": "code",
   "execution_count": 17,
   "metadata": {},
   "outputs": [],
   "source": [
    "def F(t, y):\n",
    "    \"\"\"The system of ODEs to solve.\"\"\"\n",
    "\n",
    "def construct_four_velocity(uⁱ, metric=ds2, coords=SphCoords, subs=subs):\n",
    "    \"\"\"Given a three-velocity and metric construct the four-velocity\"\"\"\n",
    "\n",
    "def eval_four_vector_field(u, x, coords=SphCoords):"
   ]
  },
  {
   "cell_type": "markdown",
   "metadata": {},
   "source": [
    "Radial infall"
   ]
  },
  {
   "cell_type": "code",
   "execution_count": 18,
   "metadata": {},
   "outputs": [],
   "source": [
    "R = 5       # initial coordinate radius distance\n",
    "U = -.8     # initial radial velocity\n",
    "\n",
    "# time steps to solve for the trajectory\n",
    "T = np.linspace(0, 2*R/np.abs(U), 100)"
   ]
  },
  {
   "cell_type": "code",
   "execution_count": null,
   "metadata": {},
   "outputs": [],
   "source": []
  },
  {
   "cell_type": "code",
   "execution_count": null,
   "metadata": {},
   "outputs": [],
   "source": []
  },
  {
   "cell_type": "code",
   "execution_count": 22,
   "metadata": {},
   "outputs": [],
   "source": [
    "def plot_double_polar(y, fig=None):\n",
    "    if fig == None:\n",
    "        fig = plt.figure(figsize=(8, 4))\n",
    "    tmin, tmax = min(y[0]), max(y[0])\n",
    "\n",
    "    in_pos_plane = y[1] > 0\n",
    "    in_neg_plane = ~in_pos_plane\n",
    "\n",
    "    ax = fig.add_subplot(121, projection='polar')\n",
    "    ax.scatter(y[3][in_pos_plane], y[1][in_pos_plane], c=y[0][in_pos_plane], vmin=tmin, vmax=tmax)\n",
    "    ax.grid(True)\n",
    "\n",
    "    ax = fig.add_subplot(122, projection='polar')\n",
    "    ax.scatter(y[3][in_neg_plane], abs(y[1][in_neg_plane]), c=y[0][in_neg_plane], vmin=tmin, vmax=tmax)\n",
    "    ax.grid(True)\n",
    "    ax.set_yticklabels(['-'+lab.get_text() for lab in ax.get_yticklabels()])\n",
    "    return fig"
   ]
  },
  {
   "cell_type": "code",
   "execution_count": null,
   "metadata": {},
   "outputs": [],
   "source": []
  },
  {
   "cell_type": "markdown",
   "metadata": {},
   "source": [
    "Recall our work on the embedding diagram.  Working with cylindrical coordinates, we derived the 2-D surface in flat 3-D space to represent this line element's curvature:\n",
    "\n",
    "$$\n",
    "z(r, b) = b\\, \\text{sinh}^{-1}\\left(\\frac{r}{b}\\right) \\\\\n",
    "\\rho(z) = b\\, \\text{cosh}\\left(\\frac{z}{b}\\right)\n",
    "$$"
   ]
  },
  {
   "cell_type": "code",
   "execution_count": 24,
   "metadata": {},
   "outputs": [],
   "source": [
    "def get_z(r, b=1):\n",
    "\n",
    "def ρ(z, b=1):"
   ]
  },
  {
   "cell_type": "markdown",
   "metadata": {},
   "source": [
    "Let's construct a grid for plotting in 3-D."
   ]
  },
  {
   "cell_type": "code",
   "execution_count": null,
   "metadata": {},
   "outputs": [],
   "source": []
  },
  {
   "cell_type": "markdown",
   "metadata": {},
   "source": [
    "Now let's plot the trajectory of our infalling particle on the embedding diagram."
   ]
  },
  {
   "cell_type": "code",
   "execution_count": 26,
   "metadata": {},
   "outputs": [],
   "source": [
    "def plot_trajectory_on_embedding(y=None, fig=None, ngrid=100, zmax=3):\n",
    "    if fig is None:\n",
    "        fig = plt.figure()\n",
    "    zs = np.linspace(-1*zmax, zmax, ngrid)\n",
    "    ρs = ρ(zs)\n",
    "\n",
    "    ϕs, zs = np.meshgrid(np.linspace(0, 2*np.pi, ngrid), zs)\n",
    "    ρs = ρ(zs)\n",
    "\n",
    "    xs = (ρs*np.cos(ϕs)).flatten()\n",
    "    ys = (ρs*np.sin(ϕs)).flatten()\n",
    "    zs = zs.flatten()\n",
    "\n",
    "    ax = fig.add_subplot(projection='3d')\n",
    "\n",
    "    ax.plot(xs, ys, zs, linewidth=0.2)\n",
    "\n",
    "    if y is not None:\n",
    "        zs = get_z(sol.y[1])\n",
    "        ρs = ρ(zs)\n",
    "        ϕs = sol.y[3]\n",
    "        xs = ρs*np.cos(ϕs)\n",
    "        ys = ρs*np.sin(ϕs)\n",
    "        ax.plot(xs, ys, zs, linewidth=1, c='r')\n",
    "    return fig"
   ]
  },
  {
   "cell_type": "code",
   "execution_count": null,
   "metadata": {},
   "outputs": [],
   "source": []
  },
  {
   "cell_type": "markdown",
   "metadata": {},
   "source": [
    "Orbit?"
   ]
  },
  {
   "cell_type": "code",
   "execution_count": null,
   "metadata": {},
   "outputs": [],
   "source": []
  }
 ],
 "metadata": {
  "kernelspec": {
   "display_name": "phys-483-583",
   "language": "python",
   "name": "python3"
  },
  "language_info": {
   "codemirror_mode": {
    "name": "ipython",
    "version": 3
   },
   "file_extension": ".py",
   "mimetype": "text/x-python",
   "name": "python",
   "nbconvert_exporter": "python",
   "pygments_lexer": "ipython3",
   "version": "3.11.11"
  }
 },
 "nbformat": 4,
 "nbformat_minor": 2
}
